{
 "cells": [
  {
   "cell_type": "markdown",
   "id": "37324126",
   "metadata": {},
   "source": [
    "# My Jupyter Notebook"
   ]
  },
  {
   "cell_type": "markdown",
   "id": "1d640957",
   "metadata": {},
   "source": [
    "**La Phan**\n",
    "\n",
    "Policy Science Enthusiast"
   ]
  },
  {
   "cell_type": "markdown",
   "id": "483c6941",
   "metadata": {},
   "source": [
    "*I am interested in data science because I want to sharpen skills in extracting insights from data, and dealing with multiple types of data, and using computational techniques to facilitate decision and policy making.*"
   ]
  },
  {
   "cell_type": "markdown",
   "id": "c297a924",
   "metadata": {},
   "source": [
    "### The following is demonstration of arthmatic function in Python."
   ]
  },
  {
   "cell_type": "code",
   "execution_count": 2,
   "id": "25f0fb3e",
   "metadata": {},
   "outputs": [
    {
     "data": {
      "text/plain": [
       "4.5"
      ]
     },
     "execution_count": 2,
     "metadata": {},
     "output_type": "execute_result"
    }
   ],
   "source": [
    "(1+2)*3/2"
   ]
  },
  {
   "cell_type": "markdown",
   "id": "943da72f",
   "metadata": {},
   "source": [
    "---------------\n",
    "Final Exercise\n",
    "____________\n",
    "* this is [link practice](https://daringfireball.net/projects/markdown/syntax#link \"Markdown Syntax\")\n",
    "* below is blockquotes\n",
    "\n",
    "> komputer hte data science sharin la ga\n",
    "> magup sumhpa a matu grai akyu pru mai nga ai\n"
   ]
  },
  {
   "cell_type": "code",
   "execution_count": null,
   "id": "fee18c15",
   "metadata": {},
   "outputs": [],
   "source": []
  }
 ],
 "metadata": {
  "kernelspec": {
   "display_name": "Python 3 (ipykernel)",
   "language": "python",
   "name": "python3"
  },
  "language_info": {
   "codemirror_mode": {
    "name": "ipython",
    "version": 3
   },
   "file_extension": ".py",
   "mimetype": "text/x-python",
   "name": "python",
   "nbconvert_exporter": "python",
   "pygments_lexer": "ipython3",
   "version": "3.9.7"
  }
 },
 "nbformat": 4,
 "nbformat_minor": 5
}
